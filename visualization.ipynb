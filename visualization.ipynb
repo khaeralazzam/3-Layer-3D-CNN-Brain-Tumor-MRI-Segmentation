{
 "cells": [
  {
   "cell_type": "code",
   "execution_count": 1,
   "metadata": {},
   "outputs": [],
   "source": [
    "import nibabel as nib\n",
    "import numpy as np\n",
    "import cv2 as cv"
   ]
  },
  {
   "cell_type": "code",
   "execution_count": 2,
   "metadata": {},
   "outputs": [
    {
     "data": {
      "text/plain": [
       "(240, 240, 155)"
      ]
     },
     "execution_count": 2,
     "metadata": {},
     "output_type": "execute_result"
    }
   ],
   "source": [
    "x = nib.load('./BraTS20_Training_001_t1.nii.gz').get_fdata()\n",
    "x.shape"
   ]
  },
  {
   "cell_type": "code",
   "execution_count": 3,
   "metadata": {},
   "outputs": [
    {
     "name": "stderr",
     "output_type": "stream",
     "text": [
      "C:\\Users\\User\\AppData\\Local\\Temp\\ipykernel_15524\\4202417080.py:4: RuntimeWarning: invalid value encountered in divide\n",
      "  img_slice = (img_slice - np.min(img_slice)) /np.ptp(img_slice)\n",
      "C:\\Users\\User\\AppData\\Local\\Temp\\ipykernel_15524\\4202417080.py:6: RuntimeWarning: invalid value encountered in cast\n",
      "  img_slice = np.array(img_slice, dtype = np.int8)\n"
     ]
    },
    {
     "ename": "",
     "evalue": "",
     "output_type": "error",
     "traceback": [
      "\u001b[1;31mThe Kernel crashed while executing code in the current cell or a previous cell. \n",
      "\u001b[1;31mPlease review the code in the cell(s) to identify a possible cause of the failure. \n",
      "\u001b[1;31mClick <a href='https://aka.ms/vscodeJupyterKernelCrash'>here</a> for more info. \n",
      "\u001b[1;31mView Jupyter <a href='command:jupyter.viewOutput'>log</a> for further details."
     ]
    }
   ],
   "source": [
    "for index in range(155):\n",
    "    img_slice = x[:, :, index]\n",
    "    \n",
    "    img_slice = (img_slice - np.min(img_slice)) /np.ptp(img_slice)\n",
    "    img_slice = img_slice * 255\n",
    "    img_slice = np.array(img_slice, dtype = np.int8)\n",
    "    \n",
    "    cv.imshow(\"MRI IMAGE\", img_slice)\n",
    "    cv.waitKey(delay = 500)"
   ]
  },
  {
   "cell_type": "code",
   "execution_count": 3,
   "metadata": {},
   "outputs": [
    {
     "data": {
      "text/plain": [
       "((240, 240, 155),\n",
       " (array([0., 1., 2., 4.]),\n",
       "  array([8716021,   15443,  168794,   27742], dtype=int64)))"
      ]
     },
     "execution_count": 3,
     "metadata": {},
     "output_type": "execute_result"
    }
   ],
   "source": [
    "y = nib.load('./BraTS20_Training_001_seg.nii.gz').get_fdata()\n",
    "(y.shape, np.unique(y, return_counts=True))"
   ]
  },
  {
   "cell_type": "code",
   "execution_count": 4,
   "metadata": {},
   "outputs": [
    {
     "ename": "KeyboardInterrupt",
     "evalue": "",
     "output_type": "error",
     "traceback": [
      "\u001b[1;31m---------------------------------------------------------------------------\u001b[0m",
      "\u001b[1;31mKeyboardInterrupt\u001b[0m                         Traceback (most recent call last)",
      "Cell \u001b[1;32mIn[4], line 14\u001b[0m\n\u001b[0;32m     12\u001b[0m cv\u001b[38;5;241m.\u001b[39mimshow(\u001b[38;5;124m\"\u001b[39m\u001b[38;5;124mMRI IMAGE\u001b[39m\u001b[38;5;124m\"\u001b[39m, img_slice_x)\n\u001b[0;32m     13\u001b[0m cv\u001b[38;5;241m.\u001b[39mimshow(\u001b[38;5;124m\"\u001b[39m\u001b[38;5;124mSEGMENTATION\u001b[39m\u001b[38;5;124m\"\u001b[39m, img_slice_y)\n\u001b[1;32m---> 14\u001b[0m \u001b[43mcv\u001b[49m\u001b[38;5;241;43m.\u001b[39;49m\u001b[43mwaitKey\u001b[49m\u001b[43m(\u001b[49m\u001b[43mdelay\u001b[49m\u001b[43m \u001b[49m\u001b[38;5;241;43m=\u001b[39;49m\u001b[43m \u001b[49m\u001b[38;5;241;43m500\u001b[39;49m\u001b[43m)\u001b[49m\n",
      "\u001b[1;31mKeyboardInterrupt\u001b[0m: "
     ]
    }
   ],
   "source": [
    "for index in range(155):\n",
    "    img_slice_y = y[:, :, index]\n",
    "    \n",
    "    img_slice_y = (img_slice_y - np.min(y)) /np.ptp(y)\n",
    "    img_slice_y = img_slice_y * 255\n",
    "    img_slice_y = np.array(img_slice_y, dtype = np.int8)\n",
    "    \n",
    "    img_slice_x = x[:, :, index]\n",
    "    img_slice_x = (img_slice_x - np.min(x)) /np.ptp(x)\n",
    "    img_slice_x = np.array(img_slice_x * 255, dtype = np.int8)\n",
    "    \n",
    "    cv.imshow(\"MRI IMAGE\", img_slice_x)\n",
    "    cv.imshow(\"SEGMENTATION\", img_slice_y)\n",
    "    cv.waitKey(delay = 500)"
   ]
  }
 ],
 "metadata": {
  "kernelspec": {
   "display_name": "tf",
   "language": "python",
   "name": "python3"
  },
  "language_info": {
   "codemirror_mode": {
    "name": "ipython",
    "version": 3
   },
   "file_extension": ".py",
   "mimetype": "text/x-python",
   "name": "python",
   "nbconvert_exporter": "python",
   "pygments_lexer": "ipython3",
   "version": "3.8.18"
  }
 },
 "nbformat": 4,
 "nbformat_minor": 2
}
